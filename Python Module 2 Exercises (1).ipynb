{
 "cells": [
  {
   "cell_type": "markdown",
   "metadata": {},
   "source": [
    "1. Print out a data type of a variable?"
   ]
  },
  {
   "cell_type": "code",
   "execution_count": 31,
   "metadata": {},
   "outputs": [
    {
     "data": {
      "text/plain": [
       "int"
      ]
     },
     "execution_count": 31,
     "metadata": {},
     "output_type": "execute_result"
    }
   ],
   "source": [
    "variable=1234\n",
    "type(variable)"
   ]
  },
  {
   "cell_type": "markdown",
   "metadata": {},
   "source": [
    "2. Round 4.5667 to the nearest hundreth using a build-in function, round()."
   ]
  },
  {
   "cell_type": "code",
   "execution_count": 4,
   "metadata": {},
   "outputs": [
    {
     "name": "stdout",
     "output_type": "stream",
     "text": [
      "5\n"
     ]
    }
   ],
   "source": [
    "print (round(4.5667))"
   ]
  },
  {
   "cell_type": "markdown",
   "metadata": {},
   "source": [
    "3. Convert \"657\" to an integer data type"
   ]
  },
  {
   "cell_type": "code",
   "execution_count": 46,
   "metadata": {},
   "outputs": [
    {
     "data": {
      "text/plain": [
       "657"
      ]
     },
     "execution_count": 46,
     "metadata": {},
     "output_type": "execute_result"
    }
   ],
   "source": [
    "int(\"657\")"
   ]
  },
  {
   "cell_type": "markdown",
   "metadata": {},
   "source": [
    "4. Write a function to calculate the miles per gallon.\n",
    "Get a miles driven and gallons used from a user and call your function to calculate the miles per gallon. "
   ]
  },
  {
   "cell_type": "code",
   "execution_count": 53,
   "metadata": {},
   "outputs": [
    {
     "name": "stdout",
     "output_type": "stream",
     "text": [
      "Enter miles driven :5\n",
      "Enter gallons used :6\n",
      "you have used 0.83 gallon per mile\n"
     ]
    }
   ],
   "source": [
    "def lol() :\n",
    "    miles = float(input(\"Enter miles driven :\"))\n",
    "\n",
    "    gallons = float(input(\"Enter gallons used :\"))\n",
    "    result= miles/gallons\n",
    "    \n",
    "    print(f\"you have used {round(result, 2)} gallon per mile\")\n",
    "    \n",
    "lol()\n",
    "    \n"
   ]
  },
  {
   "cell_type": "code",
   "execution_count": null,
   "metadata": {
    "scrolled": true
   },
   "outputs": [],
   "source": []
  },
  {
   "cell_type": "code",
   "execution_count": null,
   "metadata": {},
   "outputs": [],
   "source": []
  },
  {
   "cell_type": "markdown",
   "metadata": {},
   "source": [
    "5. Enhance your function from exercise 3. Additionally, get a gas price per gallon from a user and write a program to compute the total gas cost and cost per mile. \n",
    "\n",
    "The output should look something like this:\n",
    "\n",
    "    Enter miles driven:            150\n",
    "    Enter gallons of gas used:     15\n",
    "    Enter cost per gallon:          3\n",
    "\n",
    "    Miles Per Gallon:   10.0\n",
    "    Total Gas Cost:     45.0\n",
    "    Cost per Mile:      0.3\n"
   ]
  },
  {
   "cell_type": "code",
   "execution_count": 59,
   "metadata": {},
   "outputs": [
    {
     "name": "stdout",
     "output_type": "stream",
     "text": [
      "Enter miles driven :5\n",
      "Enter gallons used :6\n",
      "Enter cost per gallon :2\n",
      "Miles Per Gallon: 0.8 \n",
      "Total Gas Cost: 12.0 \n",
      "Cost per Mile: 2.4\n"
     ]
    }
   ],
   "source": [
    "def lol() :\n",
    "    miles = float(input(\"Enter miles driven :\"))\n",
    "\n",
    "    gallons = float(input(\"Enter gallons used :\"))\n",
    "    \n",
    "    cost = float(input(\"Enter cost per gallon :\"))\n",
    "    \n",
    "    result= miles/gallons\n",
    "    rcost=gallons*cost\n",
    "    cost_mile=rcost/miles\n",
    "    \n",
    "    print(f\"Miles Per Gallon: {round(result, 1)} \\nTotal Gas Cost: {round(rcost, 1)} \\nCost per Mile: {round(cost_mile, 1)}\")\n",
    "    \n",
    "lol()\n",
    "    "
   ]
  },
  {
   "cell_type": "markdown",
   "metadata": {},
   "source": [
    "6. Write a function called multiply_two() that accepts two parameters. The function should print a message like '15 + 2 = 17'.  Randomly generate two numbers between 1 and 100, then call the function with the two random numbers."
   ]
  },
  {
   "cell_type": "code",
   "execution_count": 101,
   "metadata": {},
   "outputs": [
    {
     "name": "stdout",
     "output_type": "stream",
     "text": [
      "1 + 4 = 5\n",
      "66 95\n"
     ]
    }
   ],
   "source": [
    "import random as rand\n",
    "def multiply_two()  :\n",
    "    print('1 + 4 = 5')\n",
    "    print( rand.randint(1, 100), rand.randint(1, 100))\n",
    "   \n",
    "\n",
    "\n",
    "\n",
    "\n",
    "multiply_two()"
   ]
  },
  {
   "cell_type": "markdown",
   "metadata": {},
   "source": [
    "7. Write a function called make_shirt() that accepts a size and the text of a message. The function should print a sentence summarizing the size of the shirt and the message printed on it. The default shirt size is large and default message is 'I love Python!' Make a default size shirt with a message, a medium shirt with the default message, and a shirt of any size with a different message."
   ]
  },
  {
   "cell_type": "code",
   "execution_count": 91,
   "metadata": {},
   "outputs": [
    {
     "name": "stdout",
     "output_type": "stream",
     "text": [
      "Enter the size of the shirt: Small\n",
      "Enter the message you want: Pump\n",
      "Default temple: Large shirt I love Python\n",
      "Selected: Small shirt Pump\n",
      "Random Selection: Medium shirt I Love NY\n"
     ]
    }
   ],
   "source": [
    "import random as rand\n",
    "def make_shirt()  :\n",
    "    dsize=\"Large\"\n",
    "    dmes=\"I love Python\"\n",
    "    lsize=[\"Large\", \"Medium\", \"Small\"]\n",
    "    lmes=[\"I Love NY\", \"Keep Calm\", \"MAGA\"]\n",
    "    size=str(input(\"Enter the size of the shirt: \"))\n",
    "    text =str(input(\"Enter the message you want: \"))\n",
    "    print(f\"Default temple: {dsize} shirt, message: {dmes}\")\n",
    "    print(f\"Selected: {size} shirt, message: {text}\")\n",
    "    fran=rand.choice(lsize)\n",
    "    fran1=rand.choice(lmes)\n",
    "    print(f\"Random Selection: {fran} shirt, message: {fran1}\")\n",
    "    \n",
    "    \n",
    "make_shirt()"
   ]
  },
  {
   "cell_type": "markdown",
   "metadata": {},
   "source": [
    "8. Create a function for a multiplication table.  Get a number from a user and then call you function which produces a multiplication table for that number.\n",
    "The output should look something like this:\n",
    "\n",
    "        Enter a number: 3\n",
    "        3 X 1 = 3\n",
    "        3 X 2 = 6\n",
    "        3 X 3 = 9\n",
    "        3 X 4 = 12\n",
    "        3 X 5 = 15\n",
    "        3 X 6 = 18\n",
    "        3 X 7 = 21\n",
    "        3 X 8 = 24\n",
    "        3 X 9 = 27\n",
    "        "
   ]
  },
  {
   "cell_type": "code",
   "execution_count": 64,
   "metadata": {},
   "outputs": [
    {
     "name": "stdout",
     "output_type": "stream",
     "text": [
      "Enter a number to operate :5\n"
     ]
    }
   ],
   "source": [
    "def mult() :\n",
    "    num= int(input(\"Enter a number to operate :\"))\n",
    "    no idea\n",
    "    \n",
    "mult()"
   ]
  },
  {
   "cell_type": "code",
   "execution_count": null,
   "metadata": {},
   "outputs": [],
   "source": []
  },
  {
   "cell_type": "markdown",
   "metadata": {},
   "source": [
    "9. Write a function that accepts a string and returns a string that is \n",
    "    - without any leading nor trailing blanks\n",
    "    - converts to all capital letters\n",
    "    - and replaces all blanks with a period(.).  \n",
    "\n",
    "Write a program to accept a string from a user then call your function and display the original string and changed string.  \n",
    "\n",
    "The output should look something like this:\n",
    "\n",
    "        Enter a text: may your dreams come true\n",
    "        \n",
    "        Original Text: may your dreams come true\n",
    "        New Text: MAY.YOUR.DREAMS.COME.TRUE"
   ]
  },
  {
   "cell_type": "code",
   "execution_count": 67,
   "metadata": {},
   "outputs": [
    {
     "name": "stdout",
     "output_type": "stream",
     "text": [
      "Enter a text :hola mi nombre\n",
      "Original text :hola mi nombre\n",
      "HOLA.MI.NOMBRE\n"
     ]
    }
   ],
   "source": [
    "def fun2()  :\n",
    "    text=input(\"Enter a text :\")\n",
    "    print(f\"Original text :{text}\")\n",
    "    new= text.upper()\n",
    "    final=new.replace(\" \",\".\")\n",
    "    print(final)\n",
    "    \n",
    "    \n",
    "fun2()    "
   ]
  },
  {
   "cell_type": "markdown",
   "metadata": {},
   "source": [
    "10. Write a function that returns a randomly selected character from a passed string. Write a program to accept a string from a user then call your function and display the original string and selected character.\n",
    "\n",
    "The output should look something like this:\n",
    "\n",
    "        Enter a text: functions\n",
    "        Original Text:\tfunctions\n",
    "        Random character:\ts"
   ]
  },
  {
   "cell_type": "code",
   "execution_count": 89,
   "metadata": {},
   "outputs": [],
   "source": [
    "import random as rand\n",
    "def defrand()  :\n",
    "    text=input(\"Enter a text: \")\n",
    "    print(f\"Original text: {text}\")\n",
    "    print(f\"Random character: {rand.choice(text)}\")\n",
    "    "
   ]
  },
  {
   "cell_type": "code",
   "execution_count": 90,
   "metadata": {},
   "outputs": [
    {
     "name": "stdout",
     "output_type": "stream",
     "text": [
      "Enter a text: yolo\n",
      "Original text: yolo\n",
      "Random character: o\n"
     ]
    }
   ],
   "source": [
    "defrand()"
   ]
  },
  {
   "cell_type": "code",
   "execution_count": null,
   "metadata": {},
   "outputs": [],
   "source": []
  }
 ],
 "metadata": {
  "kernelspec": {
   "display_name": "Python 3",
   "language": "python",
   "name": "python3"
  },
  "language_info": {
   "codemirror_mode": {
    "name": "ipython",
    "version": 3
   },
   "file_extension": ".py",
   "mimetype": "text/x-python",
   "name": "python",
   "nbconvert_exporter": "python",
   "pygments_lexer": "ipython3",
   "version": "3.8.8"
  }
 },
 "nbformat": 4,
 "nbformat_minor": 4
}
